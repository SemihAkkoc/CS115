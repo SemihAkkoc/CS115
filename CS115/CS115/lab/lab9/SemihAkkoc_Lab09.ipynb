{
  "nbformat": 4,
  "nbformat_minor": 0,
  "metadata": {
    "colab": {
      "name": "SemihAkkoc_Lab09.ipynb",
      "provenance": [],
      "authorship_tag": "ABX9TyPPwOj6+Yl0fQ4auUXGEssx",
      "include_colab_link": true
    },
    "kernelspec": {
      "name": "python3",
      "display_name": "Python 3"
    },
    "language_info": {
      "name": "python"
    }
  },
  "cells": [
    {
      "cell_type": "markdown",
      "metadata": {
        "id": "view-in-github",
        "colab_type": "text"
      },
      "source": [
        "<a href=\"https://colab.research.google.com/github/SemihAkkoc/CS115/blob/main/CS115/CS115/lab/lab9/SemihAkkoc_Lab09.ipynb\" target=\"_parent\"><img src=\"https://colab.research.google.com/assets/colab-badge.svg\" alt=\"Open In Colab\"/></a>"
      ]
    },
    {
      "cell_type": "markdown",
      "source": [
        "**CS 115 - Introduction to Programming in Python**\n",
        "\n",
        "*Lab 09\n",
        "Lab Objectives:  Numpy.*\n",
        "\n",
        "Instructions: \n",
        "\n",
        " •\t In this lab, you will use Jupyter Notebook.\n",
        " \n",
        " •    Complete the questions in the spaces provided and upload the solution to Moodle when finished.\n",
        "\n",
        "NOTE: For the following questions, you should not use loops or if statements!\n",
        "\n",
        "\t•\tDownload the files covid_data.txt and covid_country.txt from Moodle.  \n",
        "\t•\tThe file covid_data.txt has 3 rows. Rows 1 – 3 contain the following: total cases per 1 million, total deaths per 1 million, tests per 1 million.\n",
        "\t•\tThe file covid_country.txt has a heading row and 2 columns, the first contains country names, and the second the continent.\n",
        "\t•\tThe two files are parallel and contain the data for the same countries.\n",
        "\t•\tCreate a python file, yourname_Lab09.py that does the following (see sample run on next page): "
      ],
      "metadata": {
        "id": "rcYa8hRH3aFw"
      }
    },
    {
      "cell_type": "markdown",
      "source": [
        "•Load the data from the file covid_data.txt into a numpy array, covid_data. \n",
        "\n",
        "•\tLoad the data from the file covid_country.txt into a numpy array, covid_country. "
      ],
      "metadata": {
        "id": "bhPoh7zh3MOY"
      }
    },
    {
      "cell_type": "code",
      "execution_count": 65,
      "metadata": {
        "id": "jOdeI7lQub1v"
      },
      "outputs": [],
      "source": [
        "import numpy as np\n",
        "\n",
        "covid_country = np.loadtxt('covid_country.txt', dtype=str, skiprows=1)\n",
        "covid_data = np.loadtxt('covid_data.txt', dtype=float)\n",
        "\n",
        "case, death, test = 0, 1, 2"
      ]
    },
    {
      "cell_type": "markdown",
      "source": [
        "•\tTranspose and update the covid_data array.\n",
        "\n",
        "•\tCalculate and display the maximum tests per 1 million.\n"
      ],
      "metadata": {
        "id": "6vVwQQo13yel"
      }
    },
    {
      "cell_type": "code",
      "source": [
        "covid_data = covid_data.T\n",
        "print('Maximum test per million:', np.max(covid_data[:,test]))"
      ],
      "metadata": {
        "colab": {
          "base_uri": "https://localhost:8080/"
        },
        "id": "wlaibVz_vVL9",
        "outputId": "13bc0dcc-05ef-4d24-a9b7-d3a7684782c9"
      },
      "execution_count": 66,
      "outputs": [
        {
          "output_type": "stream",
          "name": "stdout",
          "text": [
            "Maximum test per million: 995282.0\n"
          ]
        }
      ]
    },
    {
      "cell_type": "markdown",
      "source": [
        "•\tDisplay the names of the countries in Asia."
      ],
      "metadata": {
        "id": "fm0vUIqS34Am"
      }
    },
    {
      "cell_type": "code",
      "source": [
        "print('Countries in Asia: ', covid_country[np.where(covid_country[:,1:] == 'Asia')[0]][:,0])"
      ],
      "metadata": {
        "colab": {
          "base_uri": "https://localhost:8080/"
        },
        "id": "OhBIrVwJxYon",
        "outputId": "eb7b8aee-032c-4b00-cecb-7c5f8a25eb60"
      },
      "execution_count": 67,
      "outputs": [
        {
          "output_type": "stream",
          "name": "stdout",
          "text": [
            "Countries in Asia:  ['India' 'Iran' 'Saudi_Arabia' 'Pakistan' 'Bangladesh' 'Turkey' 'Iraq'\n",
            " 'Philippines' 'Indonesia' 'Qatar' 'Kazakhstan' 'Oman' 'Israel' 'Kuwait'\n",
            " 'UAE' 'Singapore' 'Bahrain' 'Japan' 'Armenia' 'Kyrgyzstan' 'Afghanistan'\n",
            " 'Azerbaijan' 'Uzbekistan' 'Nepal' 'South_Korea' 'Palestine' 'Malaysia'\n",
            " 'Lebanon' 'Maldives' 'Hong_Kong' 'Thailand' 'Sri_Lanka' 'Jordan' 'Cyprus'\n",
            " 'Georgia' 'Vietnam' 'Taiwan' 'Myanmar' 'Brunei']\n"
          ]
        }
      ]
    },
    {
      "cell_type": "markdown",
      "source": [
        "•\tDisplay the names of the countries with less than 50 deaths per 1 million."
      ],
      "metadata": {
        "id": "_hfhr-fs3-_m"
      }
    },
    {
      "cell_type": "code",
      "source": [
        "print('Countries with less than 50 deaths per 1 million: ', covid_country[covid_data[:,death] < 50][:,0])"
      ],
      "metadata": {
        "colab": {
          "base_uri": "https://localhost:8080/"
        },
        "id": "23TKXiuxzoSI",
        "outputId": "ac8833ab-c999-41f0-e830-fdce95b199cd"
      },
      "execution_count": 68,
      "outputs": [
        {
          "output_type": "stream",
          "name": "stdout",
          "text": [
            "Countries with less than 50 deaths per 1 million:  ['India' 'Pakistan' 'Bangladesh' 'Philippines' 'Indonesia' 'Egypt'\n",
            " 'Ukraine' 'UAE' 'Singapore' 'Poland' 'Nigeria' 'Japan' 'Ghana'\n",
            " 'Afghanistan' 'Azerbaijan' 'Morocco' 'Uzbekistan' 'Kenya' 'Venezuela'\n",
            " 'Nepal' 'Costa_Rica' 'Ethiopia' 'Australia' 'Czechia' 'Cameroon'\n",
            " 'Ivory_Coast' 'South_Korea' 'Palestine' 'Madagascar' 'Sudan' 'Senegal'\n",
            " 'Norway' 'Malaysia' 'Gabon' 'Guinea' 'Haiti' 'Zambia' 'Mauritania'\n",
            " 'Paraguay' 'Lebanon' 'Croatia' 'Greece' 'Libya' 'Maldives' 'CAR' 'Malawi'\n",
            " 'Zimbabwe' 'Hong_Kong' 'Thailand' 'Eswatini' 'Sri_Lanka' 'Cuba'\n",
            " 'Cabo_Verde' 'Namibia' 'Mali' 'Slovakia' 'South_Sudan' 'Lithuania'\n",
            " 'Estonia' 'Mozambique' 'Rwanda' 'Suriname' 'Guinea-Bissau' 'Benin'\n",
            " 'Iceland' 'Tunisia' 'New_Zealand' 'Angola' 'Uruguay' 'Latvia' 'Jordan'\n",
            " 'Uganda' 'Cyprus' 'Georgia' 'Niger' 'Togo' 'Jamaica' 'Malta' 'Gambia'\n",
            " 'Botswana' 'Bahamas' 'Vietnam' 'Lesotho' 'Reunion' 'Guyana' 'Taiwan'\n",
            " 'Burundi' 'Myanmar' 'Mauritius' 'Guadeloupe' 'Martinique' 'Aruba'\n",
            " 'Trinidad_Tobago' 'Cayman_Islands' 'Papua_New_Guinea' 'Brunei' 'Barbados'\n",
            " 'Antigua_Barbuda' 'Liechtenstein' 'Belize' 'Curacao' 'Fiji']\n"
          ]
        }
      ]
    },
    {
      "cell_type": "markdown",
      "source": [
        "•\tCalculate and display the average deaths per 1 million for Europe."
      ],
      "metadata": {
        "id": "qJuzcap24HE3"
      }
    },
    {
      "cell_type": "code",
      "source": [
        "ind_euro=np.where(covid_country[:,1:] == 'Europe')\n",
        "print('Average cases per 1 million in Europe:', np.mean(covid_data[ind_euro[0]][:,case]))"
      ],
      "metadata": {
        "colab": {
          "base_uri": "https://localhost:8080/"
        },
        "id": "4r3sskQ106Lw",
        "outputId": "d7830040-c749-40be-977d-e6add1485f41"
      },
      "execution_count": 69,
      "outputs": [
        {
          "output_type": "stream",
          "name": "stdout",
          "text": [
            "Average cases per 1 million in Europe: 4075.3555555555554\n"
          ]
        }
      ]
    },
    {
      "cell_type": "markdown",
      "source": [
        "•\tDisplay the name of the country/countries with the minimum total cases per million in Europe. (note: there may be more than one country with the same minimum, but they may not all be in Europe, you should only display those in Europe)."
      ],
      "metadata": {
        "id": "pWMZVZex4RaQ"
      }
    },
    {
      "cell_type": "code",
      "source": [
        "print('Country with minimum total cases per 1 million in Europe: ', covid_country[np.argmin(covid_data[ind_euro[0]][:,case])][0])"
      ],
      "metadata": {
        "colab": {
          "base_uri": "https://localhost:8080/"
        },
        "id": "P_E_v_Zn10MK",
        "outputId": "842622ce-13c3-4817-e2c4-53713310b216"
      },
      "execution_count": 70,
      "outputs": [
        {
          "output_type": "stream",
          "name": "stdout",
          "text": [
            "Country with minimum total cases per 1 million in Europe:  Ukraine\n"
          ]
        }
      ]
    },
    {
      "cell_type": "markdown",
      "source": [
        "•\tCreate a new array, test_result, where the first column contains country names, and the second column contains the total cases per 1 million. Hint: your new array should have 2 columns and 172 rows, not 172 columns and 2 rows.\n",
        "\n",
        "•\tOutput the data in test_result to a file, test_data.txt.\n"
      ],
      "metadata": {
        "id": "Np5t1dhk4ZGb"
      }
    },
    {
      "cell_type": "code",
      "source": [
        "test_result = np.hstack([np.hsplit(covid_country,[1])[0], np.hsplit(covid_data, [1,2])[case]])\n",
        "np.savetxt('test_data.txt', test_result, fmt=['%18s', '%10s'])"
      ],
      "metadata": {
        "id": "KEQWTK1Q4okg"
      },
      "execution_count": 104,
      "outputs": []
    }
  ]
}